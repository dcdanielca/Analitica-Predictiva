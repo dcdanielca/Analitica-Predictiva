{
 "cells": [
  {
   "cell_type": "code",
   "execution_count": 3,
   "metadata": {},
   "outputs": [],
   "source": [
    "import numpy as np"
   ]
  },
  {
   "cell_type": "code",
   "execution_count": 4,
   "metadata": {},
   "outputs": [],
   "source": [
    "def f(z):\n",
    "    return 1 if z > 0 else -1\n",
    "\n",
    "def perceptron_simple(X, d, count, error):   \n",
    "    W = np.random.rand(len(X[0]), 1)\n",
    "    theta = np.full((1,1), np.random.rand())[0][0]\n",
    "    error_actual = 100\n",
    "    while count > 0 and error_actual > error:\n",
    "        error_actual = 0\n",
    "        for i in range(len(X)):\n",
    "            z = X[i].dot(W)+theta\n",
    "            y = f(z)\n",
    "\n",
    "            if y != d[i]:\n",
    "                error_actual += 1\n",
    "                delta_W = np.array([d[i]*X[i]]).T\n",
    "                W = W+delta_W\n",
    "        count -= 1\n",
    "    return W, theta"
   ]
  },
  {
   "cell_type": "code",
   "execution_count": 5,
   "metadata": {},
   "outputs": [
    {
     "name": "stdout",
     "output_type": "stream",
     "text": [
      "[[-1.65137461]\n",
      " [-0.16626722]] 0.5390773650099528\n"
     ]
    }
   ],
   "source": [
    "X = np.array([[0.1, 0.5], [0.2, 0.6],[0.3, 0.7], [0.4, 0.8], [0.4, 0.05], [0.05, 0.7], [0.8, 1]])\n",
    "d = np.array([[1],[1],[-1],[-1],[-1],[1],[-1]])\n",
    "\n",
    "W, theta = perceptron_simple(X, d, 100000, 0)\n",
    "print(W,theta)"
   ]
  },
  {
   "cell_type": "code",
   "execution_count": 6,
   "metadata": {},
   "outputs": [
    {
     "name": "stdout",
     "output_type": "stream",
     "text": [
      "1\n",
      "1\n",
      "-1\n",
      "-1\n",
      "-1\n",
      "1\n",
      "-1\n"
     ]
    }
   ],
   "source": [
    "for i in range(len(X)):\n",
    "    z = X[i].dot(W)+theta\n",
    "    y = f(z)\n",
    "    print(y)"
   ]
  },
  {
   "cell_type": "code",
   "execution_count": null,
   "metadata": {},
   "outputs": [],
   "source": []
  }
 ],
 "metadata": {
  "kernelspec": {
   "display_name": "Python 3",
   "language": "python",
   "name": "python3"
  },
  "language_info": {
   "codemirror_mode": {
    "name": "ipython",
    "version": 3
   },
   "file_extension": ".py",
   "mimetype": "text/x-python",
   "name": "python",
   "nbconvert_exporter": "python",
   "pygments_lexer": "ipython3",
   "version": "3.7.1"
  }
 },
 "nbformat": 4,
 "nbformat_minor": 2
}
