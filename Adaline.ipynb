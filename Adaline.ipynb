{
 "cells": [
  {
   "cell_type": "code",
   "execution_count": 117,
   "metadata": {},
   "outputs": [],
   "source": [
    "import numpy as np"
   ]
  },
  {
   "cell_type": "code",
   "execution_count": 118,
   "metadata": {},
   "outputs": [],
   "source": [
    "def adaline(X, d, factor, count, error):   \n",
    "    W = np.random.rand(len(X[0]), 1)\n",
    "    theta = np.full((1,1), np.random.rand())[0][0]\n",
    "    error_cuadratico = 100\n",
    "\n",
    "    while count > 0 and error_cuadratico > error:\n",
    "        error_cuadratico = 0\n",
    "        for i in range(len(X)):\n",
    "            y = X[i].dot(W) + theta\n",
    "            error_cuadratico += ((d[i]-y)**2)[0]  \n",
    "            delta_W = np.array([factor*(d[i]-y)*X[i]]).T\n",
    "            W = W+delta_W\n",
    "        error_cuadratico /= 2\n",
    "        count -= 1\n",
    "    return W, theta"
   ]
  },
  {
   "cell_type": "code",
   "execution_count": 119,
   "metadata": {},
   "outputs": [
    {
     "name": "stdout",
     "output_type": "stream",
     "text": [
      "[[3.80146038]\n",
      " [1.80146041]\n",
      " [0.80146043]] 0.397427139694263\n"
     ]
    }
   ],
   "source": [
    "X = np.array([[0,0,0,0,1,1,1,1], [0,0,1,1,0,0,1,1], [0,1,0,1,0,1,0,1]]).T\n",
    "d = np.array([[0],[1],[2],[3],[4],[5],[6],[7]])\n",
    "\n",
    "W, theta = adaline(X, d, 0.001, 100000, 0.01)\n",
    "print(W,theta)"
   ]
  },
  {
   "cell_type": "code",
   "execution_count": 120,
   "metadata": {},
   "outputs": [
    {
     "name": "stdout",
     "output_type": "stream",
     "text": [
      "0\n",
      "1\n",
      "2\n",
      "3\n",
      "4\n",
      "5\n",
      "6\n",
      "7\n"
     ]
    }
   ],
   "source": [
    "for i in range(len(X)):\n",
    "    y = X[i].dot(W) + theta\n",
    "    print(int(round(y[0])))"
   ]
  }
 ],
 "metadata": {
  "kernelspec": {
   "display_name": "Python 3",
   "language": "python",
   "name": "python3"
  },
  "language_info": {
   "codemirror_mode": {
    "name": "ipython",
    "version": 3
   },
   "file_extension": ".py",
   "mimetype": "text/x-python",
   "name": "python",
   "nbconvert_exporter": "python",
   "pygments_lexer": "ipython3",
   "version": "3.6.6"
  }
 },
 "nbformat": 4,
 "nbformat_minor": 2
}
