{
 "cells": [
  {
   "cell_type": "code",
   "execution_count": 16,
   "metadata": {},
   "outputs": [],
   "source": [
    "import numpy as np"
   ]
  },
  {
   "cell_type": "code",
   "execution_count": 73,
   "metadata": {},
   "outputs": [],
   "source": [
    "def adaline(X, d, factor, count, error):   \n",
    "    W = np.random.rand(len(X[0]), 1)\n",
    "    theta = np.full((1,1), np.random.rand())[0][0]\n",
    "    error_cuadratico = 100\n",
    "    \n",
    "    #while count > 0 and error_cuadratico > error:\n",
    "    for i in range(len(X)):\n",
    "        error_cuadratico = 0\n",
    "        y = X[i].dot(W)+theta\n",
    "        error_cuadratico += ((d[i]-y)**2)[0]\n",
    "        delta_W = np.array([factor*(d[i]-y)*X[i]]).T\n",
    "        W = W+delta_W\n",
    "    error_cuadratico /= 2\n",
    "    count -= 1\n",
    "    return W, theta"
   ]
  },
  {
   "cell_type": "code",
   "execution_count": 74,
   "metadata": {},
   "outputs": [
    {
     "name": "stdout",
     "output_type": "stream",
     "text": [
      "0\n",
      "0\n",
      "4\n",
      "4\n",
      "4\n",
      "0\n",
      "4\n",
      "0\n",
      "0\n",
      "4\n",
      "4\n",
      "4\n",
      "0\n",
      "4\n",
      "0\n",
      "0\n",
      "4\n",
      "4\n",
      "4\n",
      "0\n",
      "4\n",
      "0\n",
      "0\n",
      "4\n",
      "4\n",
      "4\n",
      "0\n",
      "4\n",
      "0\n",
      "0\n",
      "4\n",
      "4\n",
      "4\n",
      "0\n",
      "4\n",
      "0\n",
      "0\n",
      "4\n",
      "4\n",
      "4\n",
      "0\n",
      "4\n",
      "0\n",
      "0\n",
      "4\n",
      "4\n",
      "4\n",
      "0\n",
      "4\n",
      "0\n",
      "0\n",
      "4\n",
      "4\n",
      "4\n",
      "0\n",
      "4\n",
      "0\n",
      "0\n",
      "4\n",
      "4\n",
      "4\n",
      "0\n",
      "4\n",
      "0\n",
      "0\n",
      "4\n",
      "4\n",
      "4\n",
      "0\n",
      "4\n",
      "0\n",
      "0\n",
      "4\n",
      "4\n",
      "4\n",
      "0\n",
      "4\n",
      "0\n",
      "0\n",
      "4\n",
      "4\n",
      "4\n",
      "0\n",
      "4\n",
      "0\n",
      "0\n",
      "4\n",
      "4\n",
      "4\n",
      "0\n",
      "0\n",
      "[[-0.00063562]\n",
      " [-0.31137388]] 0.23669709797391147\n"
     ]
    }
   ],
   "source": [
    "X = np.array([[0.1, 0.5], [0.2, 0.6],[0.3, 0.7], [0.4, 0.8], [0.4, 0.05], [0.05, 0.7], [0.8, 1]])\n",
    "d = np.array([[1],[1],[-1],[-1],[-1],[1],[-1]])\n",
    "\n",
    "W, theta = adaline(X, d, 0.01, 1000000, 0)\n",
    "print(W,theta)"
   ]
  },
  {
   "cell_type": "code",
   "execution_count": 54,
   "metadata": {},
   "outputs": [
    {
     "name": "stdout",
     "output_type": "stream",
     "text": [
      "1\n",
      "1\n",
      "1\n",
      "1\n",
      "1\n",
      "1\n",
      "1\n"
     ]
    }
   ],
   "source": [
    "for i in range(len(X)):\n",
    "    y = f(X[i].dot(W)+theta)\n",
    "    print(y)"
   ]
  },
  {
   "cell_type": "code",
   "execution_count": null,
   "metadata": {},
   "outputs": [],
   "source": []
  },
  {
   "cell_type": "code",
   "execution_count": null,
   "metadata": {},
   "outputs": [],
   "source": []
  }
 ],
 "metadata": {
  "kernelspec": {
   "display_name": "Python 3",
   "language": "python",
   "name": "python3"
  },
  "language_info": {
   "codemirror_mode": {
    "name": "ipython",
    "version": 3
   },
   "file_extension": ".py",
   "mimetype": "text/x-python",
   "name": "python",
   "nbconvert_exporter": "python",
   "pygments_lexer": "ipython3",
   "version": "3.7.1"
  }
 },
 "nbformat": 4,
 "nbformat_minor": 2
}
